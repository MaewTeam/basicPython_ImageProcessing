{
 "cells": [
  {
   "cell_type": "code",
   "execution_count": 17,
   "metadata": {},
   "outputs": [],
   "source": [
    "import cv2\n",
    "import numpy as np\n",
    "def show_webcam(mirror=False):\n",
    "    cam = cv2.VideoCapture(0)\n",
    "    while True:\n",
    "        ret_val,img = cam.read()\n",
    "        if mirror:            \n",
    "            img = cv2.flip(img, 1)      \n",
    "       \n",
    "        small_frame = cv2.resize(img, (0, 0), fx=1.5, fy=1.5)\n",
    "        gray = cv2.cvtColor(small_frame, cv2.COLOR_BGR2GRAY)\n",
    "        gray = small_frame[:,:,2]\n",
    "        ret,img_t = cv2.threshold(gray,210,255,cv2.THRESH_TOZERO)\n",
    "        img = cv2.Canny(img_t,100,200)  \n",
    "        cv2.imshow('my webcam',img)\n",
    "        if cv2.waitKey(1) == 27: \n",
    "            break  # esc to quit\n",
    "    cv2.destroyAllWindows()\n",
    "\n",
    "\n",
    "def main():\n",
    "    show_webcam(mirror=False)\n",
    "\n",
    "if __name__ == '__main__':\n",
    "    main()"
   ]
  },
  {
   "cell_type": "code",
   "execution_count": null,
   "metadata": {},
   "outputs": [],
   "source": []
  }
 ],
 "metadata": {
  "kernelspec": {
   "display_name": "Python 3",
   "language": "python",
   "name": "python3"
  },
  "language_info": {
   "codemirror_mode": {
    "name": "ipython",
    "version": 3
   },
   "file_extension": ".py",
   "mimetype": "text/x-python",
   "name": "python",
   "nbconvert_exporter": "python",
   "pygments_lexer": "ipython3",
   "version": "3.7.1"
  }
 },
 "nbformat": 4,
 "nbformat_minor": 2
}
