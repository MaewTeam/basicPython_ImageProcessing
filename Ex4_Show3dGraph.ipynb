{
 "cells": [
  {
   "cell_type": "code",
   "execution_count": null,
   "metadata": {},
   "outputs": [],
   "source": [
    "import matplotlib.pyplot as plt\n",
    "from mpl_toolkits.mplot3d import axes3d, Axes3D #<-- Note the capitalization! \n",
    "from matplotlib import cm\n",
    "from matplotlib import colors\n",
    "\n",
    "img_name = \"rgb_nemo.jpg\"\n",
    "image = cv2.imread(img_name)\n",
    "\n",
    "#hsv_nemo = cv2.cvtColor(image, cv2.COLOR_RGB2HSV)\n",
    "nemo = cv2.cvtColor(image, cv2.COLOR_BGR2RGB)\n",
    "\n",
    "h, s, v = cv2.split(nemo)\n",
    "\n",
    "fig = plt.figure()\n",
    "\n",
    "axis = Axes3D(fig) #<-- Note the difference from your original code...\n",
    "\n",
    "\n",
    "axis = fig.add_subplot(1, 1, 1, projection='3d')\n",
    "pixel_colors = hsv_nemo.reshape((np.shape(hsv_nemo)[0]*np.shape(hsv_nemo)[1], 3))\n",
    "norm = colors.Normalize(vmin=-1.,vmax=1.)\n",
    "norm.autoscale(pixel_colors)\n",
    "pixel_colors = norm(pixel_colors).tolist()\n",
    "axis.scatter(h.flatten(), s.flatten(), v.flatten(), facecolors=pixel_colors, marker=\".\")\n",
    "axis.set_xlabel(\"Hue\")\n",
    "axis.set_ylabel(\"Saturation\")\n",
    "axis.set_zlabel(\"Value\")\n",
    "plt.show()"
   ]
  },
  {
   "cell_type": "code",
   "execution_count": null,
   "metadata": {},
   "outputs": [],
   "source": []
  }
 ],
 "metadata": {
  "kernelspec": {
   "display_name": "Python 2",
   "language": "python",
   "name": "python2"
  },
  "language_info": {
   "codemirror_mode": {
    "name": "ipython",
    "version": 2
   },
   "file_extension": ".py",
   "mimetype": "text/x-python",
   "name": "python",
   "nbconvert_exporter": "python",
   "pygments_lexer": "ipython2",
   "version": "2.7.15"
  }
 },
 "nbformat": 4,
 "nbformat_minor": 2
}
