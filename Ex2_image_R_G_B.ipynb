{
 "cells": [
  {
   "cell_type": "markdown",
   "metadata": {},
   "source": [
    "### ตัวอย่างที่ 2 เรื่องพื้นฐานการแสดงภาพแต่ละชนิดออกหน้าจอ\n",
    "### การแสดงภาพในส่วนค่าสีแต่ละค่าสี\n",
    "\n",
    "https://realpython.com/python-opencv-color-spaces/"
   ]
  },
  {
   "cell_type": "code",
   "execution_count": 1,
   "metadata": {},
   "outputs": [],
   "source": [
    "import cv2\n",
    "from matplotlib import pyplot as plt\n",
    "\n",
    "# ดูได้จากคำสั่ง !pwd สำหรับเครื่องที่ไม่ได้ทำงานบน วินโดว์\n",
    "# ดูได้จากคำสั่ง !cd สำหรับเครื่องที่ทำงานบน วินโดว์\n",
    "\n",
    "str_path = \"/Users/maew/Documents/Document_For_teach/Basic_Digital_Image_Processing/image/\"\n",
    "\n",
    "img_name = \"rgb_nemo.jpg\"\n",
    "image = cv2.imread(img_name)\n",
    "rgb = cv2.cvtColor(image, cv2.COLOR_BGR2RGB)"
   ]
  },
  {
   "cell_type": "code",
   "execution_count": 2,
   "metadata": {},
   "outputs": [],
   "source": [
    "b = image.copy()\n",
    "# set green and red channels to 0\n",
    "b[:, :, 1] = 0\n",
    "b[:, :, 2] = 0\n",
    "\n",
    "\n",
    "g = image.copy()\n",
    "# set blue and red channels to 0\n",
    "g[:, :, 0] = 0\n",
    "g[:, :, 2] = 0\n",
    "\n",
    "r = image.copy()\n",
    "# set blue and green channels to 0\n",
    "r[:, :, 0] = 0\n",
    "r[:, :, 1] = 0\n"
   ]
  },
  {
   "cell_type": "code",
   "execution_count": null,
   "metadata": {},
   "outputs": [],
   "source": [
    "# RGB - Blue\n",
    "cv2.imshow('B-RGB', b)\n",
    "\n",
    "# RGB - Green\n",
    "cv2.imshow('G-RGB', g)\n",
    "\n",
    "# RGB - Red\n",
    "cv2.imshow('R-RGB', r)\n",
    "\n",
    "#RGB\n",
    "cv2.imshow('RGB',image)\n",
    "\n",
    "#plt.subplot(1, 2, 1), plt.imshow(rgb ,'gray')\n",
    "#plt.subplot(1, 2, 2), plt.imshow(r,'red-RGB')\n",
    "#plt.subplot(1, 2, 3), plt.imshow(g,'green-RGB ')\n",
    "#plt.subplot(1, 2, 4), plt.imshow(b,'blue-RGB ')\n",
    "#plt.show()\n",
    "\n",
    "cv2.waitKey(0)"
   ]
  },
  {
   "cell_type": "code",
   "execution_count": null,
   "metadata": {},
   "outputs": [],
   "source": []
  },
  {
   "cell_type": "code",
   "execution_count": null,
   "metadata": {},
   "outputs": [],
   "source": []
  },
  {
   "cell_type": "code",
   "execution_count": null,
   "metadata": {},
   "outputs": [],
   "source": []
  }
 ],
 "metadata": {
  "kernelspec": {
   "display_name": "Python 2",
   "language": "python",
   "name": "python2"
  },
  "language_info": {
   "codemirror_mode": {
    "name": "ipython",
    "version": 2
   },
   "file_extension": ".py",
   "mimetype": "text/x-python",
   "name": "python",
   "nbconvert_exporter": "python",
   "pygments_lexer": "ipython2",
   "version": "2.7.15"
  }
 },
 "nbformat": 4,
 "nbformat_minor": 2
}
