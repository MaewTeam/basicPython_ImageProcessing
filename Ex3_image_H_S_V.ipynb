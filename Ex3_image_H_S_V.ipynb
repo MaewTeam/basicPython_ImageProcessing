{
 "cells": [
  {
   "cell_type": "markdown",
   "metadata": {},
   "source": [
    "### ตัวอย่างที่ 2 เรื่องพื้นฐานการแสดงภาพแต่ละชนิดออกหน้าจอ\n",
    "### การแสดงภาพในส่วนค่าสีแต่ละค่าสี\n",
    "\n",
    "https://realpython.com/python-opencv-color-spaces/"
   ]
  },
  {
   "cell_type": "code",
   "execution_count": 1,
   "metadata": {},
   "outputs": [],
   "source": [
    "import cv2"
   ]
  },
  {
   "cell_type": "code",
   "execution_count": 2,
   "metadata": {},
   "outputs": [],
   "source": [
    "img_name = \"rgb_nemo.jpg\"\n",
    "image = cv2.imread(img_name)\n",
    "hsv_nemo = cv2.cvtColor(image, cv2.COLOR_RGB2HSV)\n",
    "\n",
    "#hsl = cv2.cvtColor(img1, cv2.COLOR_BGR2HLS) # equal to HSL\n",
    "#luv = cv2.cvtColor(img1, cv2.COLOR_BGR2LUV)\n"
   ]
  },
  {
   "cell_type": "code",
   "execution_count": 3,
   "metadata": {},
   "outputs": [],
   "source": [
    "h = image.copy()\n",
    "# set green and red channels to 0\n",
    "h[:, :, 1] = 0\n",
    "h[:, :, 2] = 0\n",
    "\n",
    "\n",
    "s = image.copy()\n",
    "# set blue and red channels to 0\n",
    "s[:, :, 0] = 0\n",
    "s[:, :, 2] = 0\n",
    "\n",
    "v = image.copy()\n",
    "# set blue and green channels to 0\n",
    "v[:, :, 0] = 0\n",
    "v[:, :, 1] = 0\n"
   ]
  },
  {
   "cell_type": "code",
   "execution_count": null,
   "metadata": {},
   "outputs": [],
   "source": [
    "# RGB - H\n",
    "cv2.imshow('H-RGB', h)\n",
    "\n",
    "# RGB - S\n",
    "cv2.imshow('S-RGB', s)\n",
    "\n",
    "# RGB - V\n",
    "cv2.imshow('V-RGB', v)\n",
    "\n",
    "#RGB\n",
    "cv2.imshow('HSV',image)\n",
    "\n",
    "cv2.waitKey(0)"
   ]
  },
  {
   "cell_type": "code",
   "execution_count": null,
   "metadata": {},
   "outputs": [],
   "source": []
  }
 ],
 "metadata": {
  "kernelspec": {
   "display_name": "Python 2",
   "language": "python",
   "name": "python2"
  },
  "language_info": {
   "codemirror_mode": {
    "name": "ipython",
    "version": 2
   },
   "file_extension": ".py",
   "mimetype": "text/x-python",
   "name": "python",
   "nbconvert_exporter": "python",
   "pygments_lexer": "ipython2",
   "version": "2.7.15"
  }
 },
 "nbformat": 4,
 "nbformat_minor": 2
}
