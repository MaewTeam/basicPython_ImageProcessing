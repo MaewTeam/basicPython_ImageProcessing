{
 "cells": [
  {
   "cell_type": "code",
   "execution_count": 2,
   "metadata": {},
   "outputs": [
    {
     "ename": "TypeError",
     "evalue": "'tuple' object is not callable",
     "output_type": "error",
     "traceback": [
      "\u001b[0;31m---------------------------------------------------------------------------\u001b[0m",
      "\u001b[0;31mTypeError\u001b[0m                                 Traceback (most recent call last)",
      "\u001b[0;31mTypeError\u001b[0m: 'tuple' object is not callable"
     ]
    },
    {
     "ename": "AttributeError",
     "evalue": "'module' object has no attribute 'destroyallwindows'",
     "output_type": "error",
     "traceback": [
      "\u001b[0;31m---------------------------------------------------------------------------\u001b[0m",
      "\u001b[0;31mAttributeError\u001b[0m                            Traceback (most recent call last)",
      "\u001b[0;32m<ipython-input-2-6604e4c35968>\u001b[0m in \u001b[0;36m<module>\u001b[0;34m()\u001b[0m\n\u001b[1;32m     39\u001b[0m \u001b[0;31m#cv2.destroyallwindows()\u001b[0m\u001b[0;34m\u001b[0m\u001b[0;34m\u001b[0m\u001b[0m\n\u001b[1;32m     40\u001b[0m \u001b[0mcv2\u001b[0m\u001b[0;34m.\u001b[0m\u001b[0mwaitKey\u001b[0m\u001b[0;34m(\u001b[0m\u001b[0;36m1\u001b[0m\u001b[0;34m)\u001b[0m \u001b[0;31m# 5 sec delay before image window closes\u001b[0m\u001b[0;34m\u001b[0m\u001b[0m\n\u001b[0;32m---> 41\u001b[0;31m \u001b[0mcv2\u001b[0m\u001b[0;34m.\u001b[0m\u001b[0mdestroyallwindows\u001b[0m\u001b[0;34m(\u001b[0m\u001b[0;34m)\u001b[0m\u001b[0;34m\u001b[0m\u001b[0m\n\u001b[0m",
      "\u001b[0;31mAttributeError\u001b[0m: 'module' object has no attribute 'destroyallwindows'"
     ]
    }
   ],
   "source": [
    "import cv2\n",
    "\n",
    "\n",
    "#write simple callback function to pass trackbar position as *arg    \n",
    "def callback(*arg): \n",
    "    pass\n",
    "\n",
    "#create display window for image\n",
    "cv2.namedWindow('frame') \n",
    "\n",
    "#read in image\n",
    "img = cv2.imread('rgb_nemo.jpg',0)\n",
    "\n",
    "#instantiate trackbar that goes in our named window and uses callback function\n",
    "cv2.createTrackbar('thresh2','frame',5,15,callback)\n",
    "\n",
    "#initialize thresholds\n",
    "thresh1=11\n",
    "thresh2=5\n",
    "\n",
    "#loop really just runs until the escape key causes a break\n",
    "while(True):\n",
    "\n",
    "    #sets threshold 2 to trackbar position\n",
    "    thresh2=cv2.getTrackbarPos('thresh2','frame')   \n",
    "    #apply laplacian filter to ehance edge gradients\n",
    "    th = cv2.Laplacian(img,cv2.CV_8UC1)\n",
    "    #binarize image with adaptive threshold\n",
    "    th = cv2.adaptiveThreshold(th,255,cv2.ADAPTIVE_THRESH_GAUSSIAN_C,cv2.THRESH_BINARY_INV,thresh1,thresh2) \n",
    "\n",
    "    #show filtered image\n",
    "    cv2.imshow('frame',th)\n",
    "    #waits for escape key then breaks out of loop\n",
    "    if cv2.waitKey(1) & 0xFF == ord('q'):\n",
    "        break\n",
    "\n",
    "\n",
    "#close our display window     \n",
    "#cv2.destroyallwindows()\n",
    "cv2.waitKey(1) # 5 sec delay before image window closes\n",
    "cv2.destroyallwindows()"
   ]
  },
  {
   "cell_type": "code",
   "execution_count": null,
   "metadata": {},
   "outputs": [],
   "source": []
  },
  {
   "cell_type": "code",
   "execution_count": null,
   "metadata": {},
   "outputs": [],
   "source": []
  }
 ],
 "metadata": {
  "kernelspec": {
   "display_name": "Python 2",
   "language": "python",
   "name": "python2"
  },
  "language_info": {
   "codemirror_mode": {
    "name": "ipython",
    "version": 2
   },
   "file_extension": ".py",
   "mimetype": "text/x-python",
   "name": "python",
   "nbconvert_exporter": "python",
   "pygments_lexer": "ipython2",
   "version": "2.7.15"
  }
 },
 "nbformat": 4,
 "nbformat_minor": 2
}
